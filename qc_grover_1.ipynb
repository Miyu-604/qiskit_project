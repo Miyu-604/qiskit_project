{
 "cells": [
  {
   "cell_type": "code",
   "execution_count": 1,
   "id": "099df6e3-5060-4ac8-9ee5-cb8511c62ac3",
   "metadata": {
    "tags": []
   },
   "outputs": [
    {
     "name": "stderr",
     "output_type": "stream",
     "text": [
      "/tmp/ipykernel_191/2779030276.py:10: DeprecationWarning: The qiskit.IBMQ entrypoint and the qiskit-ibmq-provider package (accessible from 'qiskit.providers.ibmq`) are deprecated and will be removed in a future release. Instead you should use the qiskit-ibm-provider package which is accessible from 'qiskit_ibm_provider'. You can install it with 'pip install qiskit_ibm_provider'. Just replace 'qiskit.IBMQ' with 'qiskit_ibm_provider.IBMProvider'\n",
      "  provider = IBMQ.load_account()\n"
     ]
    }
   ],
   "source": [
    "import numpy as np\n",
    "\n",
    "# Importing standard Qiskit libraries\n",
    "from qiskit import QuantumCircuit, transpile, Aer, IBMQ, execute\n",
    "from qiskit.tools.jupyter import *\n",
    "from qiskit.visualization import *\n",
    "from ibm_quantum_widgets import *\n",
    "from qiskit.providers.aer import QasmSimulator\n",
    "from qiskit.providers.ibmq.job import job_monitor\n",
    "provider = IBMQ.load_account()"
   ]
  },
  {
   "cell_type": "markdown",
   "id": "9ed62552-2898-46bf-a23c-c5dbe5b4017b",
   "metadata": {},
   "source": [
    "# 回路の生成"
   ]
  },
  {
   "cell_type": "code",
   "execution_count": 4,
   "id": "36d8e538-4e0f-4a52-a1b2-dceaec694490",
   "metadata": {
    "tags": []
   },
   "outputs": [
    {
     "data": {
      "image/png": "[encoded data removed]",
      "text/plain": [
       "<Figure size 1541.46x284.278 with 1 Axes>"
      ]
     },
     "execution_count": 4,
     "metadata": {},
     "output_type": "execute_result"
    }
   ],
   "source": [
    "#量子ビット数と古典ビット数\n",
    "q = 2\n",
    "c = 2\n",
    "\n",
    "\n",
    "#全ての古典bitにアダマールをかける回路。オラクル回路と位相回路の間に挟む\n",
    "circ_h = QuantumCircuit(q, c)\n",
    "circ_h.barrier()\n",
    "for i in range(0,q):\n",
    "    circ_h.h(i)\n",
    "\n",
    "\n",
    "#オラクル回路\n",
    "circ_o = QuantumCircuit(q, c)\n",
    "circ_o.barrier()\n",
    "\n",
    "#解が1\n",
    "#circ_o.x(1)\n",
    "#circ_o.h(1)\n",
    "#circ_o.cx(0,1)\n",
    "#circ_o.h(1)\n",
    "#circ_o.x(1)\n",
    "\n",
    "\n",
    "#解が3\n",
    "circ_o.cz(0,1)\n",
    "\n",
    "\n",
    "#位相回路\n",
    "circ_p = QuantumCircuit(q, c)\n",
    "circ_p.barrier()\n",
    "circ_p.x(0)\n",
    "circ_p.x(1)\n",
    "circ_p.h(1)\n",
    "circ_p.cx(0,1)\n",
    "circ_p.h(1)\n",
    "circ_p.x(1)\n",
    "circ_p.x(0)\n",
    "\n",
    "#グローバーの繰り返し回路\n",
    "circ_g = circ_o.compose(circ_h).compose(circ_p).compose(circ_h)\n",
    "\n",
    "#測定\n",
    "meas = QuantumCircuit(q, c)\n",
    "meas.barrier()\n",
    "meas.measure([0,1],[0,1])\n",
    "\n",
    "\n",
    "#回路をn回繰り返す関数\n",
    "def repeat_circuit(n):\n",
    "    circ = circ_h\n",
    "    for i in range(0,n):\n",
    "        circ = circ.compose(circ_g)\n",
    "    circ = circ.compose(meas)\n",
    "    return circ\n",
    "\n",
    "\n",
    "#回路を表示\n",
    "repeat_circuit(1).draw(output='mpl')"
   ]
  },
  {
   "cell_type": "markdown",
   "id": "9e09eddf-1562-490b-9b7a-8f0566b30e18",
   "metadata": {},
   "source": [
    "# シミュレータでの実行\n",
    "表示形式は、[00, 01, 10, 11]の各確率の配列を繰り返し回数ごとにprintする形にしました。"
   ]
  },
  {
   "cell_type": "code",
   "execution_count": 6,
   "id": "fbcf1cf1-8e9f-45db-90df-53f3b302ed04",
   "metadata": {
    "tags": []
   },
   "outputs": [
    {
     "name": "stdout",
     "output_type": "stream",
     "text": [
      "1回繰り返した場合: [0.0, 0.0, 0.0, 1.0]\n",
      "2回繰り返した場合: [0.2470703125, 0.2333984375, 0.2626953125, 0.2568359375]\n",
      "3回繰り返した場合: [0.22998046875, 0.25439453125, 0.25341796875, 0.26220703125]\n",
      "4回繰り返した場合: [0.0, 0.0, 0.0, 1.0]\n",
      "5回繰り返した場合: [0.25927734375, 0.2548828125, 0.2412109375, 0.24462890625]\n"
     ]
    }
   ],
   "source": [
    "#シミュレータで試す\n",
    "simulator = Aer.get_backend('qasm_simulator')\n",
    "\n",
    "#回路の最大繰り返し回数\n",
    "n = 5\n",
    "\n",
    "#ショット数、結果の格納庫を用意\n",
    "shots = 2048\n",
    "results_sim = []\n",
    "\n",
    "#回路をシミュレート、測定結果を取得して配列に\n",
    "for i in range(1,n+1):\n",
    "    job_sim = execute(repeat_circuit(i), backend=simulator, shots=shots)\n",
    "    results_sim.append(job_sim.result().get_counts(repeat_circuit(i)))\n",
    "\n",
    "\n",
    "#結果から確率を計算し、配列にして表示\n",
    "for i, counts in enumerate(results_sim):\n",
    "    a0 = list(counts.values())\n",
    "    ntotal = sum(a0)\n",
    "    p00 = counts.get('00', 0) / ntotal\n",
    "    p01 = counts.get('01', 0) / ntotal\n",
    "    p10 = counts.get('10', 0) / ntotal\n",
    "    p11 = counts.get('11', 0) / ntotal\n",
    "    a = [p00, p01, p10, p11]\n",
    "    print(f\"{i+1}回繰り返した場合: {a}\")\n",
    "\n"
   ]
  },
  {
   "cell_type": "markdown",
   "id": "02b16f0e-9dc3-42a4-b25a-8d5529065262",
   "metadata": {},
   "source": [
    "繰り返し回数の式の通り、n = 1 と n = 4 で確率が1になる。"
   ]
  },
  {
   "cell_type": "markdown",
   "id": "a48b00fa-b2f5-4424-82f4-21791ab0fce1",
   "metadata": {},
   "source": [
    "# 実機での実行"
   ]
  },
  {
   "cell_type": "code",
   "execution_count": 19,
   "id": "b47dcf2f-698e-4274-8817-e5f7bb144914",
   "metadata": {
    "tags": []
   },
   "outputs": [
    {
     "name": "stdout",
     "output_type": "stream",
     "text": [
      "<IBMBackend('ibm_perth')>\n",
      "<IBMBackend('ibm_sherbrooke')>\n",
      "<IBMBackend('ibmq_belem')>\n",
      "<IBMBackend('ibmq_lima')>\n",
      "<IBMBackend('ibmq_manila')>\n",
      "<IBMBackend('simulator_statevector')>\n",
      "<IBMBackend('ibm_auckland')>\n",
      "<IBMBackend('ibm_kawasaki')>\n",
      "<IBMBackend('ibm_lagos')>\n",
      "<IBMBackend('ibmq_guadalupe')>\n",
      "<IBMBackend('ibmq_jakarta')>\n",
      "<IBMBackend('ibmq_mumbai')>\n",
      "<IBMBackend('ibmq_qasm_simulator')>\n",
      "<IBMBackend('simulator_extended_stabilizer')>\n",
      "<IBMBackend('ibm_algiers')>\n",
      "<IBMBackend('ibm_nazca')>\n",
      "<IBMBackend('ibm_nairobi')>\n",
      "<IBMBackend('ibmq_quito')>\n",
      "<IBMBackend('ibm_brisbane')>\n",
      "<IBMBackend('ibm_cairo')>\n",
      "<IBMBackend('ibm_hanoi')>\n",
      "<IBMBackend('ibmq_kolkata')>\n",
      "<IBMBackend('simulator_mps')>\n",
      "<IBMBackend('simulator_stabilizer')>\n"
     ]
    }
   ],
   "source": [
    "#プロバイダーの設定\n",
    "from qiskit_ibm_provider import IBMProvider\n",
    "\n",
    "provider = IBMProvider(instance='ibm-q-utokyo/internal/adv-sci-1a-2023s')\n",
    "\n",
    "back=provider.backends()\n",
    "\n",
    "for i in back:\n",
    "    print(i)"
   ]
  },
  {
   "cell_type": "code",
   "execution_count": 20,
   "id": "df3a6acf-33b2-49f1-af0a-a5c108ee0d47",
   "metadata": {},
   "outputs": [],
   "source": [
    "#デバイスを取得\n",
    "device=back[7]\n",
    "\n",
    "#回路の最大繰り返し回数\n",
    "n = 5\n",
    "\n",
    "#ショット数、結果の格納庫を用意\n",
    "shots = 2048\n",
    "results_exp = []\n",
    "\n",
    "#回路を実行、測定結果を取得して配列に\n",
    "for i in range(1,n+1):\n",
    "    job_exp = execute(repeat_circuit(i), backend = device, shots=shots)\n",
    "    results_exp.append(job_exp.result().get_counts(repeat_circuit(i)))"
   ]
  },
  {
   "cell_type": "code",
   "execution_count": 21,
   "id": "27595e8e-441f-4bf6-9e9b-6f1ba0644a29",
   "metadata": {},
   "outputs": [
    {
     "name": "stdout",
     "output_type": "stream",
     "text": [
      "[[0.017578125, 0.958984375, 0.0029296875, 0.0205078125], [0.22412109375, 0.28564453125, 0.248046875, 0.2421875], [0.28955078125, 0.228515625, 0.23583984375, 0.24609375], [0.02490234375, 0.9345703125, 0.01171875, 0.02880859375], [0.19580078125, 0.30908203125, 0.24755859375, 0.24755859375]]\n"
     ]
    }
   ],
   "source": [
    "#各状態の確率を格納する配列を用意\n",
    "probability_exp = []\n",
    "\n",
    "#結果から確率を計算し、配列に\n",
    "for counts in results_exp:\n",
    "    a0 = list(counts.values())\n",
    "    ntotal = sum(a0)\n",
    "    p00 = counts.get('00', 0) / ntotal\n",
    "    p01 = counts.get('01', 0) / ntotal\n",
    "    p10 = counts.get('10', 0) / ntotal\n",
    "    p11 = counts.get('11', 0) / ntotal\n",
    "    a = [p00, p01, p10, p11]\n",
    "    probability_exp.append(a)\n",
    "\n",
    "# 表示\n",
    "print(probability_exp)"
   ]
  },
  {
   "cell_type": "markdown",
   "id": "4b680f6b-91d7-4148-981f-cdc61a022686",
   "metadata": {},
   "source": [
    "シミュレータと違い、ノイズが発生している。繰り返し回数が多いn=4ではノイズが大きくなっているのが分かる。"
   ]
  },
  {
   "cell_type": "code",
   "execution_count": null,
   "id": "d4b95baf-5c69-4c9b-b086-b2184dca5c5e",
   "metadata": {},
   "outputs": [],
   "source": []
  }
 ],
 "metadata": {
  "kernelspec": {
   "display_name": "Python 3 (ipykernel)",
   "language": "python",
   "name": "python3"
  },
  "language_info": {
   "codemirror_mode": {
    "name": "ipython",
    "version": 3
   },
   "file_extension": ".py",
   "mimetype": "text/x-python",
   "name": "python",
   "nbconvert_exporter": "python",
   "pygments_lexer": "ipython3",
   "version": "3.10.8"
  },
  "widgets": {
   "application/vnd.jupyter.widget-state+json": {
    "state": {
     "210c37c498044dfb8aa97e2d6c23b207": {
      "model_module": "@jupyter-widgets/base",
      "model_module_version": "2.0.0",
      "model_name": "LayoutModel",
      "state": {
       "width": "95px"
      }
     },
     "2b31981b40534f4b8428226ad7a2e1e1": {
      "model_module": "@jupyter-widgets/controls",
      "model_module_version": "2.0.0",
      "model_name": "HBoxModel",
      "state": {
       "children": [
        "IPY_MODEL_6fa48497e9724bec9d0c6d7e59ca741f",
        "IPY_MODEL_56d66d19377246f8871ab152e7a71cd2",
        "IPY_MODEL_687f7929f09340e7949d1ed4e70c781f",
        "IPY_MODEL_5461a82004b441a9817412ed64cdb022",
        "IPY_MODEL_696a94a76fd94a8db345e949608e4368"
       ],
       "layout": "IPY_MODEL_cad92ae21d8e4928b4d7af73180c7fd6"
      }
     },
     "2e1b904a2cba4a3a95fbde8268c66ed1": {
      "model_module": "@jupyter-widgets/base",
      "model_module_version": "2.0.0",
      "model_name": "LayoutModel",
      "state": {
       "width": "190px"
      }
     },
     "412f0be9f52a4d21bb2d66af3d606308": {
      "model_module": "@jupyter-widgets/base",
      "model_module_version": "2.0.0",
      "model_name": "LayoutModel",
      "state": {
       "grid_area": "right",
       "padding": "0px 0px 0px 0px",
       "width": "70px"
      }
     },
     "46279d8399994cd7ac36ff50767cbc22": {
      "model_module": "@jupyter-widgets/controls",
      "model_module_version": "2.0.0",
      "model_name": "HTMLModel",
      "state": {
       "layout": "IPY_MODEL_c8367ddcf8d547caac84c322063667bc",
       "style": "IPY_MODEL_99578aeb5c0a4d5e926b1b20a9242e1e",
       "value": "<p style='font-family: IBM Plex Sans, Arial, Helvetica, sans-serif; font-size: 20px; font-weight: medium;'>Circuit Properties</p>"
      }
     },
     "4ae20756c6c14340929bef0137c9d30f": {
      "model_module": "@jupyter-widgets/controls",
      "model_module_version": "2.0.0",
      "model_name": "ButtonModel",
      "state": {
       "button_style": "primary",
       "description": "Clear",
       "layout": "IPY_MODEL_412f0be9f52a4d21bb2d66af3d606308",
       "style": "IPY_MODEL_55ea4ffa93754b5086530295a0c064d9",
       "tooltip": null
      }
     },
     "5461a82004b441a9817412ed64cdb022": {
      "model_module": "@jupyter-widgets/controls",
      "model_module_version": "2.0.0",
      "model_name": "HTMLModel",
      "state": {
       "layout": "IPY_MODEL_dae7726a158540b08d5333ddf587d9b7",
       "style": "IPY_MODEL_721264fd09f14d56b55180ef1432cbb3",
       "value": "<h5>Queue</h5>"
      }
     },
     "55ea4ffa93754b5086530295a0c064d9": {
      "model_module": "@jupyter-widgets/controls",
      "model_module_version": "2.0.0",
      "model_name": "ButtonStyleModel",
      "state": {
       "font_family": null,
       "font_size": null,
       "font_style": null,
       "font_variant": null,
       "font_weight": null,
       "text_color": null,
       "text_decoration": null
      }
     },
     "56d66d19377246f8871ab152e7a71cd2": {
      "model_module": "@jupyter-widgets/controls",
      "model_module_version": "2.0.0",
      "model_name": "HTMLModel",
      "state": {
       "layout": "IPY_MODEL_9014b64db3484117af666f5a59494ead",
       "style": "IPY_MODEL_874bb3c438464d59b4c8db126d653f03",
       "value": "<h5>Backend</h5>"
      }
     },
     "687f7929f09340e7949d1ed4e70c781f": {
      "model_module": "@jupyter-widgets/controls",
      "model_module_version": "2.0.0",
      "model_name": "HTMLModel",
      "state": {
       "layout": "IPY_MODEL_210c37c498044dfb8aa97e2d6c23b207",
       "style": "IPY_MODEL_801e7ae822634ad9a6fb626cc421b2ae",
       "value": "<h5>Status</h5>"
      }
     },
     "696a94a76fd94a8db345e949608e4368": {
      "model_module": "@jupyter-widgets/controls",
      "model_module_version": "2.0.0",
      "model_name": "HTMLModel",
      "state": {
       "layout": "IPY_MODEL_dbf8d49c8ac448dda87df09cfcfe5ca5",
       "style": "IPY_MODEL_dcbb41129f9f4a1582ba33b6d1037043",
       "value": "<h5>Message</h5>"
      }
     },
     "6fa48497e9724bec9d0c6d7e59ca741f": {
      "model_module": "@jupyter-widgets/controls",
      "model_module_version": "2.0.0",
      "model_name": "HTMLModel",
      "state": {
       "layout": "IPY_MODEL_2e1b904a2cba4a3a95fbde8268c66ed1",
       "style": "IPY_MODEL_f10ef3ddbc5e49b9876ac6598cbac969",
       "value": "<h5>Job ID</h5>"
      }
     },
     "721264fd09f14d56b55180ef1432cbb3": {
      "model_module": "@jupyter-widgets/controls",
      "model_module_version": "2.0.0",
      "model_name": "HTMLStyleModel",
      "state": {
       "description_width": "",
       "font_size": null,
       "text_color": null
      }
     },
     "801e7ae822634ad9a6fb626cc421b2ae": {
      "model_module": "@jupyter-widgets/controls",
      "model_module_version": "2.0.0",
      "model_name": "HTMLStyleModel",
      "state": {
       "description_width": "",
       "font_size": null,
       "text_color": null
      }
     },
     "874bb3c438464d59b4c8db126d653f03": {
      "model_module": "@jupyter-widgets/controls",
      "model_module_version": "2.0.0",
      "model_name": "HTMLStyleModel",
      "state": {
       "description_width": "",
       "font_size": null,
       "text_color": null
      }
     },
     "9014b64db3484117af666f5a59494ead": {
      "model_module": "@jupyter-widgets/base",
      "model_module_version": "2.0.0",
      "model_name": "LayoutModel",
      "state": {
       "width": "145px"
      }
     },
     "99578aeb5c0a4d5e926b1b20a9242e1e": {
      "model_module": "@jupyter-widgets/controls",
      "model_module_version": "2.0.0",
      "model_name": "HTMLStyleModel",
      "state": {
       "description_width": "",
       "font_size": null,
       "text_color": null
      }
     },
     "c8367ddcf8d547caac84c322063667bc": {
      "model_module": "@jupyter-widgets/base",
      "model_module_version": "2.0.0",
      "model_name": "LayoutModel",
      "state": {
       "margin": "0px 0px 10px 0px"
      }
     },
     "cad92ae21d8e4928b4d7af73180c7fd6": {
      "model_module": "@jupyter-widgets/base",
      "model_module_version": "2.0.0",
      "model_name": "LayoutModel",
      "state": {
       "margin": "0px 0px 0px 37px",
       "width": "600px"
      }
     },
     "d0a1aca9e8804c64a870017929a3f83a": {
      "model_module": "@jupyter-widgets/controls",
      "model_module_version": "2.0.0",
      "model_name": "GridBoxModel",
      "state": {
       "children": [
        "IPY_MODEL_4ae20756c6c14340929bef0137c9d30f"
       ],
       "layout": "IPY_MODEL_e514c4f62c174366bdd9e5f1653b2388"
      }
     },
     "dae7726a158540b08d5333ddf587d9b7": {
      "model_module": "@jupyter-widgets/base",
      "model_module_version": "2.0.0",
      "model_name": "LayoutModel",
      "state": {
       "width": "70px"
      }
     },
     "dbf8d49c8ac448dda87df09cfcfe5ca5": {
      "model_module": "@jupyter-widgets/base",
      "model_module_version": "2.0.0",
      "model_name": "LayoutModel",
      "state": {}
     },
     "dcbb41129f9f4a1582ba33b6d1037043": {
      "model_module": "@jupyter-widgets/controls",
      "model_module_version": "2.0.0",
      "model_name": "HTMLStyleModel",
      "state": {
       "description_width": "",
       "font_size": null,
       "text_color": null
      }
     },
     "e514c4f62c174366bdd9e5f1653b2388": {
      "model_module": "@jupyter-widgets/base",
      "model_module_version": "2.0.0",
      "model_name": "LayoutModel",
      "state": {
       "grid_template_areas": "\n                                       \". . . . right \"\n                                        ",
       "grid_template_columns": "20% 20% 20% 20% 20%",
       "width": "100%"
      }
     },
     "f10ef3ddbc5e49b9876ac6598cbac969": {
      "model_module": "@jupyter-widgets/controls",
      "model_module_version": "2.0.0",
      "model_name": "HTMLStyleModel",
      "state": {
       "description_width": "",
       "font_size": null,
       "text_color": null
      }
     }
    },
    "version_major": 2,
    "version_minor": 0
   }
  }
 },
 "nbformat": 4,
 "nbformat_minor": 5
}
