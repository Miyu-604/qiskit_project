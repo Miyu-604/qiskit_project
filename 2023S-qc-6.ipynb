{
 "cells": [
  {
   "cell_type": "code",
   "execution_count": 1,
   "id": "ee5accf1-5844-41ac-a55c-a84fddfffef3",
   "metadata": {
    "tags": []
   },
   "outputs": [
    {
     "name": "stderr",
     "output_type": "stream",
     "text": [
      "/tmp/ipykernel_60/2779030276.py:10: DeprecationWarning: The qiskit.IBMQ entrypoint and the qiskit-ibmq-provider package (accessible from 'qiskit.providers.ibmq`) are deprecated and will be removed in a future release. Instead you should use the qiskit-ibm-provider package which is accessible from 'qiskit_ibm_provider'. You can install it with 'pip install qiskit_ibm_provider'. Just replace 'qiskit.IBMQ' with 'qiskit_ibm_provider.IBMProvider'\n",
      "  provider = IBMQ.load_account()\n"
     ]
    }
   ],
   "source": [
    "import numpy as np\n",
    "\n",
    "# Importing standard Qiskit libraries\n",
    "from qiskit import QuantumCircuit, transpile, Aer, IBMQ, execute\n",
    "from qiskit.tools.jupyter import *\n",
    "from qiskit.visualization import *\n",
    "from ibm_quantum_widgets import *\n",
    "from qiskit.providers.aer import QasmSimulator\n",
    "from qiskit.providers.ibmq.job import job_monitor\n",
    "provider = IBMQ.load_account()"
   ]
  },
  {
   "cell_type": "code",
   "execution_count": 26,
   "id": "8ddb3152-602d-4f34-b9c9-455248a409e0",
   "metadata": {},
   "outputs": [
    {
     "data": {
      "image/png": "[encoded data removed]",
      "text/plain": [
       "<Figure size 1374.44x367.889 with 1 Axes>"
      ]
     },
     "execution_count": 26,
     "metadata": {},
     "output_type": "execute_result"
    }
   ],
   "source": [
    "q=3\n",
    "c=3\n",
    "#初期状態を作る部分\n",
    "circ_init = QuantumCircuit(q,c)\n",
    "\n",
    "#Bell測定の部分\n",
    "circ_bell = QuantumCircuit(q,c)\n",
    "\n",
    "#古典通信の部分\n",
    "circ_comm = QuantumCircuit(q,c)\n",
    "\n",
    "#測定の部分\n",
    "meas_x = QuantumCircuit(q,c)\n",
    "meas_y = QuantumCircuit(q,c)\n",
    "meas_z = QuantumCircuit(q,c)\n",
    "\n",
    "\n",
    "#0番目の量子ビットの初期状態を作る\n",
    "circ_init.h(0)\n",
    "circ_init.rz(np.pi/4,0)\n",
    "circ_init.h(0)\n",
    "circ_init.rz(np.pi/4,0)\n",
    "\n",
    "#1番目と2番目の量子ビットを完全混合状態にする\n",
    "circ_init.h(1)\n",
    "circ_init.cx(1,2)\n",
    "\n",
    "#Bell測定を行い、結果を古典ビットに入力する\n",
    "circ_bell.barrier()\n",
    "circ_bell.cx(0,1)\n",
    "circ_bell.h(0)\n",
    "circ_bell.measure([0,1],[0,1])\n",
    "\n",
    "#古典ビットをもとに3番目のビットを操作する\n",
    "circ_comm.barrier()\n",
    "#circ_comm.id(2).c_if(c, 0)\n",
    "#circ_comm.z(2).c_if(c, 1)\n",
    "#circ_comm.x(2).c_if(c, 2)\n",
    "#circ_comm.x(2).c_if(c, 3)\n",
    "#circ_comm.z(2).c_if(c, 3)\n",
    "\n",
    "circ_comm.z(2).c_if(0, 1)\n",
    "circ_comm.x(2).c_if(1, 1)\n",
    "\n",
    "# x,y,z 測定部をそれぞれ作る\n",
    "meas_x.barrier()\n",
    "meas_x.h(2)\n",
    "meas_x.measure([2],[2])\n",
    "\n",
    "meas_y.barrier()\n",
    "meas_y.s(2)\n",
    "meas_y.h(2)\n",
    "meas_y.measure([2],[2])\n",
    "\n",
    "meas_z.barrier()\n",
    "meas_z.measure([2],[2])\n",
    "\n",
    "#回路を繋げる\n",
    "qc_x = circ_init.compose(circ_bell).compose(circ_comm).compose(meas_x)\n",
    "\n",
    "qc_y = circ_init.compose(circ_bell).compose(circ_comm).compose(meas_y)\n",
    "\n",
    "qc_z = circ_init.compose(circ_bell).compose(circ_comm).compose(meas_z)\n",
    "\n",
    "#回路を表示\n",
    "qc_y.draw(output='mpl')"
   ]
  },
  {
   "cell_type": "code",
   "execution_count": 27,
   "id": "c1b3d447-384e-4daa-85a9-9ce17b8b393a",
   "metadata": {},
   "outputs": [
    {
     "name": "stdout",
     "output_type": "stream",
     "text": [
      "[0.75732421875, 0.744140625, 0.84619140625]\n"
     ]
    }
   ],
   "source": [
    "#シミュレータで試す\n",
    "simulator = Aer.get_backend('qasm_simulator')\n",
    "\n",
    "#ショット数、回路の配列、結果の格納庫を用意\n",
    "shots = 2048\n",
    "qclist = [qc_x, qc_y, qc_z]\n",
    "results_sim = []\n",
    "\n",
    "#回路をシミュレート\n",
    "for qc in qclist:\n",
    "    job_sim = execute(qc, backend=simulator, shots=shots)\n",
    "    results_sim.append(job_sim.result().get_counts(qc))\n",
    "\n",
    "#各座標の期待値を格納する配列を用意\n",
    "expectation_values_sim = []\n",
    "\n",
    "#結果から各座標の期待値を計算\n",
    "for counts in results_sim:\n",
    "    n000 = counts.get('000', 0)\n",
    "    n001 = counts.get('001', 0)\n",
    "    n010 = counts.get('010', 0)\n",
    "    n011 = counts.get('011', 0)\n",
    "    a0 = list(counts.values())\n",
    "    ntotal = sum(a0)\n",
    "    expectation_value = (n000 + n001 + n010 + n011) / ntotal\n",
    "    expectation_values_sim.append(expectation_value)\n",
    "\n",
    "# 座標 (x,y,z) を表示する\n",
    "print(expectation_values_sim)\n"
   ]
  },
  {
   "cell_type": "code",
   "execution_count": null,
   "id": "78dcd47b-d06e-4128-ac45-f6632fde86d9",
   "metadata": {},
   "outputs": [],
   "source": []
  }
 ],
 "metadata": {
  "kernelspec": {
   "display_name": "Python 3 (ipykernel)",
   "language": "python",
   "name": "python3"
  },
  "language_info": {
   "codemirror_mode": {
    "name": "ipython",
    "version": 3
   },
   "file_extension": ".py",
   "mimetype": "text/x-python",
   "name": "python",
   "nbconvert_exporter": "python",
   "pygments_lexer": "ipython3",
   "version": "3.10.8"
  },
  "widgets": {
   "application/vnd.jupyter.widget-state+json": {
    "state": {},
    "version_major": 2,
    "version_minor": 0
   }
  }
 },
 "nbformat": 4,
 "nbformat_minor": 5
}
