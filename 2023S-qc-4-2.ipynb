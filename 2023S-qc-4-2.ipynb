{
 "cells": [
  {
   "cell_type": "code",
   "execution_count": 12,
   "id": "528c6223-be55-44df-a83f-0fd0dda69941",
   "metadata": {
    "tags": []
   },
   "outputs": [
    {
     "name": "stderr",
     "output_type": "stream",
     "text": [
      "ibmqfactory.load_account:WARNING:2023-07-20 02:46:19,439: Credentials are already in use. The existing account in the session will be replaced.\n"
     ]
    }
   ],
   "source": [
    "import numpy as np\n",
    "import matplotlib.pyplot as plt\n",
    "\n",
    "# Importing standard Qiskit libraries\n",
    "from qiskit import QuantumCircuit, transpile, Aer, IBMQ, execute\n",
    "from qiskit.tools.jupyter import *\n",
    "from qiskit.visualization import *\n",
    "from ibm_quantum_widgets import *\n",
    "from qiskit.providers.aer import QasmSimulator\n",
    "from qiskit.providers.ibmq.job import job_monitor\n",
    "provider = IBMQ.load_account()"
   ]
  },
  {
   "cell_type": "markdown",
   "id": "6b3eaf2d-c3fc-4461-be7b-a7bdf0acb0ad",
   "metadata": {},
   "source": [
    "# 回路の生成\n",
    "あまり良い方法も思いつかなかったので、x, y, z それぞれを測定する回路を作りました。"
   ]
  },
  {
   "cell_type": "code",
   "execution_count": 13,
   "id": "dd909af8-5356-4aba-bf96-12da224466de",
   "metadata": {
    "tags": []
   },
   "outputs": [
    {
     "data": {
      "image/png": "[encoded data removed]",
      "text/plain": [
       "<Figure size 789.163x367.889 with 1 Axes>"
      ]
     },
     "execution_count": 13,
     "metadata": {},
     "output_type": "execute_result"
    }
   ],
   "source": [
    "#初期状態\n",
    "circ_init = QuantumCircuit(1,1)\n",
    "\n",
    "#量子回路\n",
    "circ = QuantumCircuit(3, 3)\n",
    "\n",
    "\n",
    "\n",
    "\n",
    "#測定したい量子状態を作る\n",
    "for i in range(3):\n",
    "    circ.h(i)\n",
    "    circ.rz(np.pi/4,i)\n",
    "    circ.h(i)\n",
    "    circ.rz(np.pi/4,i)\n",
    "\n",
    "# x,y,z 測定部をそれぞれ作る\n",
    "circ.h(0)\n",
    "circ.measure([0],[0])\n",
    "\n",
    "circ.sdg(1)\n",
    "circ.h(1)\n",
    "circ.measure([1],[1])\n",
    "\n",
    "circ.measure([2],[2])\n",
    "\n",
    "\n",
    "\n",
    "#回路を表示\n",
    "circ.draw(output='mpl')"
   ]
  },
  {
   "cell_type": "markdown",
   "id": "836a08ed-55d6-48ae-b5db-e60d946a1342",
   "metadata": {},
   "source": [
    "# シミュレータで実行"
   ]
  },
  {
   "cell_type": "markdown",
   "id": "9e6af3c4-abe9-4ac0-8923-5e77ef8aa02a",
   "metadata": {},
   "source": [
    "z期待値を計算しやすいように関数にしておきます。"
   ]
  },
  {
   "cell_type": "code",
   "execution_count": 14,
   "id": "90efaf2e-0c2b-42f4-8eaa-ba277e391942",
   "metadata": {
    "tags": []
   },
   "outputs": [],
   "source": [
    "def expect_value(data_list, n):\n",
    "    count = 0\n",
    "\n",
    "    for key, value in data_list.items():\n",
    "        if key[n] == '0':\n",
    "            count += value\n",
    "        elif key[n] == '1':\n",
    "            count -= value\n",
    "    return count"
   ]
  },
  {
   "cell_type": "code",
   "execution_count": 23,
   "id": "0c2729fe-bc56-4ca0-b7cd-239e835b0b5d",
   "metadata": {},
   "outputs": [
    {
     "name": "stdout",
     "output_type": "stream",
     "text": [
      "[0.489990234375, -0.497314453125, 0.70654296875]\n"
     ]
    }
   ],
   "source": [
    "#シミュレータで試す\n",
    "simulator = Aer.get_backend('qasm_simulator')\n",
    "\n",
    "#ショット数、回路の配列、結果の格納庫を用意\n",
    "shots = 8192\n",
    "results_sim = []\n",
    "\n",
    "#回路をシミュレート\n",
    "job_sim = simulator.run(transpile(circ, backend=simulator), shots=shots)\n",
    "counts_sim = job_sim.result().get_counts(circ)\n",
    "\n",
    "\n",
    "#結果から各座標の期待値を計算\n",
    "ntotal = sum(counts_sim.values())\n",
    "x = expect_value(counts_sim,2)/ntotal\n",
    "y = expect_value(counts_sim,1)/ntotal\n",
    "z = expect_value(counts_sim,0)/ntotal\n",
    "\n",
    "# 座標 (x,y,z) を表示する\n",
    "print([x,y,z])"
   ]
  },
  {
   "cell_type": "markdown",
   "id": "3b1e6a7e-56b8-4fd2-9fb0-2531fc6d49a1",
   "metadata": {},
   "source": [
    "# 実機で実行"
   ]
  },
  {
   "cell_type": "code",
   "execution_count": 17,
   "id": "d7506d88-711a-44c8-88ad-900ebfc1781f",
   "metadata": {
    "tags": []
   },
   "outputs": [
    {
     "name": "stdout",
     "output_type": "stream",
     "text": [
      "Available backends:\n",
      "<IBMBackend('ibm_nazca')>\n",
      "<IBMBackend('ibm_auckland')>\n",
      "<IBMBackend('ibm_brisbane')>\n",
      "<IBMBackend('ibm_hanoi')>\n",
      "<IBMBackend('ibmq_belem')>\n",
      "<IBMBackend('ibmq_kolkata')>\n",
      "<IBMBackend('ibmq_lima')>\n",
      "<IBMBackend('ibm_cairo')>\n",
      "<IBMBackend('ibm_kawasaki')>\n",
      "<IBMBackend('ibmq_guadalupe')>\n",
      "<IBMBackend('ibmq_qasm_simulator')>\n",
      "<IBMBackend('simulator_mps')>\n",
      "<IBMBackend('ibm_algiers')>\n",
      "<IBMBackend('simulator_extended_stabilizer')>\n",
      "<IBMBackend('simulator_stabilizer')>\n",
      "<IBMBackend('ibm_nairobi')>\n",
      "<IBMBackend('ibm_sherbrooke')>\n",
      "<IBMBackend('ibmq_jakarta')>\n",
      "<IBMBackend('ibmq_manila')>\n",
      "<IBMBackend('ibmq_mumbai')>\n",
      "<IBMBackend('ibmq_quito')>\n",
      "<IBMBackend('ibm_lagos')>\n",
      "<IBMBackend('ibm_perth')>\n",
      "<IBMBackend('simulator_statevector')>\n"
     ]
    }
   ],
   "source": [
    "from qiskit_ibm_provider import IBMProvider\n",
    "\n",
    "provider = IBMProvider(instance='ibm-q-utokyo/internal/adv-sci-1a-2023s')\n",
    "\n",
    "#使用可能なコンピュータを調べる\n",
    "print(\"Available backends:\")\n",
    "back=provider.backends()\n",
    "\n",
    "for i in back:\n",
    "    print(i)\n"
   ]
  },
  {
   "cell_type": "code",
   "execution_count": 18,
   "id": "82caa2c1-36f2-4dfd-847a-27d9b7bcf3c4",
   "metadata": {
    "tags": []
   },
   "outputs": [
    {
     "name": "stdout",
     "output_type": "stream",
     "text": [
      "using backend is <IBMBackend('ibm_hanoi')>\n"
     ]
    }
   ],
   "source": [
    "device=back[3]\n",
    "print(\"using backend is \" + str(device))"
   ]
  },
  {
   "cell_type": "code",
   "execution_count": 20,
   "id": "529f036e-5e68-41fd-bb76-96e49c71c433",
   "metadata": {
    "tags": []
   },
   "outputs": [
    {
     "name": "stdout",
     "output_type": "stream",
     "text": [
      "Job Status: job has successfully run\n"
     ]
    }
   ],
   "source": [
    "#実際のデバイスで計算\n",
    "#ショット数、回路の配列、結果の格納庫を用意\n",
    "shots = 2048\n",
    "\n",
    "\n",
    "#回路を実行\n",
    "job_exp = execute(circ, backend=device, shots=shots)\n",
    "job_monitor(job_exp)\n",
    "counts_exp = job_exp.result().get_counts(circ)"
   ]
  },
  {
   "cell_type": "code",
   "execution_count": 21,
   "id": "d4310c18-a036-4e34-8158-51d50ec3e1c3",
   "metadata": {},
   "outputs": [
    {
     "name": "stdout",
     "output_type": "stream",
     "text": [
      "[0.4794921875, -0.421875, 0.6748046875]\n"
     ]
    }
   ],
   "source": [
    "#結果から各座標の期待値を計算\n",
    "ntotal = sum(counts_exp.values())\n",
    "x = expect_value(counts_exp,2)/ntotal\n",
    "y = expect_value(counts_exp,1)/ntotal\n",
    "z = expect_value(counts_exp,0)/ntotal\n",
    "\n",
    "# 座標 (x,y,z) を表示する\n",
    "print([x,y,z])"
   ]
  },
  {
   "cell_type": "markdown",
   "id": "79d253e7-03ba-4fef-9a9c-0f76cbc6fbd8",
   "metadata": {},
   "source": [
    "# アダマールテストを利用する\n"
   ]
  }
 ],
 "metadata": {
  "kernelspec": {
   "display_name": "Python 3 (ipykernel)",
   "language": "python",
   "name": "python3"
  },
  "language_info": {
   "codemirror_mode": {
    "name": "ipython",
    "version": 3
   },
   "file_extension": ".py",
   "mimetype": "text/x-python",
   "name": "python",
   "nbconvert_exporter": "python",
   "pygments_lexer": "ipython3",
   "version": "3.10.8"
  },
  "widgets": {
   "application/vnd.jupyter.widget-state+json": {
    "state": {
     "053bc17ccf564477bf45b7a975bdd4eb": {
      "model_module": "@jupyter-widgets/controls",
      "model_module_version": "2.0.0",
      "model_name": "HTMLStyleModel",
      "state": {
       "description_width": "",
       "font_size": null,
       "text_color": null
      }
     },
     "10fda1ce48ec48d2944efe210161f34e": {
      "model_module": "@jupyter-widgets/controls",
      "model_module_version": "2.0.0",
      "model_name": "HTMLModel",
      "state": {
       "layout": "IPY_MODEL_9ec33ef485184831ae1f5945d16218a0",
       "style": "IPY_MODEL_a077c10f505a4dc594a2655650ceb75f",
       "value": "<p style='font-family: IBM Plex Sans, Arial, Helvetica, sans-serif; font-size: 20px; font-weight: medium;'>Circuit Properties</p>"
      }
     },
     "3e259cd3b1c24dfa995ceee04209929f": {
      "model_module": "@jupyter-widgets/controls",
      "model_module_version": "2.0.0",
      "model_name": "HTMLStyleModel",
      "state": {
       "description_width": "",
       "font_size": null,
       "text_color": null
      }
     },
     "3f35897134ea4188af32a98c8983c947": {
      "model_module": "@jupyter-widgets/controls",
      "model_module_version": "2.0.0",
      "model_name": "HBoxModel",
      "state": {
       "children": [
        "IPY_MODEL_c5378ddc097e49d1939e943a84cabbcf",
        "IPY_MODEL_f5df71159dff42d4aa316f622a2e5740",
        "IPY_MODEL_59f3a571e2c445c3ad33051f3d8e6874",
        "IPY_MODEL_65e53b751cf74cffab1619f524d04539",
        "IPY_MODEL_c566f7f07e05492ca81d89022dc68561"
       ],
       "layout": "IPY_MODEL_b2fcd0f408404f2a870f9718262b7559"
      }
     },
     "52da612b5fb146ad9f2d1f829cd311d7": {
      "model_module": "@jupyter-widgets/base",
      "model_module_version": "2.0.0",
      "model_name": "LayoutModel",
      "state": {
       "grid_area": "right",
       "padding": "0px 0px 0px 0px",
       "width": "70px"
      }
     },
     "59f3a571e2c445c3ad33051f3d8e6874": {
      "model_module": "@jupyter-widgets/controls",
      "model_module_version": "2.0.0",
      "model_name": "HTMLModel",
      "state": {
       "layout": "IPY_MODEL_7b6144c8f6df4b37892fa43cb3175067",
       "style": "IPY_MODEL_053bc17ccf564477bf45b7a975bdd4eb",
       "value": "<h5>Status</h5>"
      }
     },
     "65e53b751cf74cffab1619f524d04539": {
      "model_module": "@jupyter-widgets/controls",
      "model_module_version": "2.0.0",
      "model_name": "HTMLModel",
      "state": {
       "layout": "IPY_MODEL_ebc9e6e2e62e4211bfec33eca1b7c51f",
       "style": "IPY_MODEL_78f65713d75442e6a8f63bfe0a7b243e",
       "value": "<h5>Queue</h5>"
      }
     },
     "78f65713d75442e6a8f63bfe0a7b243e": {
      "model_module": "@jupyter-widgets/controls",
      "model_module_version": "2.0.0",
      "model_name": "HTMLStyleModel",
      "state": {
       "description_width": "",
       "font_size": null,
       "text_color": null
      }
     },
     "7b6144c8f6df4b37892fa43cb3175067": {
      "model_module": "@jupyter-widgets/base",
      "model_module_version": "2.0.0",
      "model_name": "LayoutModel",
      "state": {
       "width": "95px"
      }
     },
     "898893e64b7f44aebe19092cc6728efc": {
      "model_module": "@jupyter-widgets/controls",
      "model_module_version": "2.0.0",
      "model_name": "HTMLStyleModel",
      "state": {
       "description_width": "",
       "font_size": null,
       "text_color": null
      }
     },
     "905460df05504f189bc846a2507ddd86": {
      "model_module": "@jupyter-widgets/base",
      "model_module_version": "2.0.0",
      "model_name": "LayoutModel",
      "state": {
       "width": "190px"
      }
     },
     "995bf62ac4f049e6b10fb6e2e8d0a63b": {
      "model_module": "@jupyter-widgets/controls",
      "model_module_version": "2.0.0",
      "model_name": "GridBoxModel",
      "state": {
       "children": [
        "IPY_MODEL_dc07748109264dc484ec8bfe20a2fe5a"
       ],
       "layout": "IPY_MODEL_bedb72ee2b294417971d3265388ee5b0"
      }
     },
     "9ec33ef485184831ae1f5945d16218a0": {
      "model_module": "@jupyter-widgets/base",
      "model_module_version": "2.0.0",
      "model_name": "LayoutModel",
      "state": {
       "margin": "0px 0px 10px 0px"
      }
     },
     "a077c10f505a4dc594a2655650ceb75f": {
      "model_module": "@jupyter-widgets/controls",
      "model_module_version": "2.0.0",
      "model_name": "HTMLStyleModel",
      "state": {
       "description_width": "",
       "font_size": null,
       "text_color": null
      }
     },
     "a481f6dea4ca42068769a09d5663dbb4": {
      "model_module": "@jupyter-widgets/controls",
      "model_module_version": "2.0.0",
      "model_name": "ButtonStyleModel",
      "state": {
       "font_family": null,
       "font_size": null,
       "font_style": null,
       "font_variant": null,
       "font_weight": null,
       "text_color": null,
       "text_decoration": null
      }
     },
     "a5e93b04cb6d421cabdb475182f720fc": {
      "model_module": "@jupyter-widgets/controls",
      "model_module_version": "2.0.0",
      "model_name": "HTMLStyleModel",
      "state": {
       "description_width": "",
       "font_size": null,
       "text_color": null
      }
     },
     "b2fcd0f408404f2a870f9718262b7559": {
      "model_module": "@jupyter-widgets/base",
      "model_module_version": "2.0.0",
      "model_name": "LayoutModel",
      "state": {
       "margin": "0px 0px 0px 37px",
       "width": "600px"
      }
     },
     "bedb72ee2b294417971d3265388ee5b0": {
      "model_module": "@jupyter-widgets/base",
      "model_module_version": "2.0.0",
      "model_name": "LayoutModel",
      "state": {
       "grid_template_areas": "\n                                       \". . . . right \"\n                                        ",
       "grid_template_columns": "20% 20% 20% 20% 20%",
       "width": "100%"
      }
     },
     "c5378ddc097e49d1939e943a84cabbcf": {
      "model_module": "@jupyter-widgets/controls",
      "model_module_version": "2.0.0",
      "model_name": "HTMLModel",
      "state": {
       "layout": "IPY_MODEL_905460df05504f189bc846a2507ddd86",
       "style": "IPY_MODEL_a5e93b04cb6d421cabdb475182f720fc",
       "value": "<h5>Job ID</h5>"
      }
     },
     "c566f7f07e05492ca81d89022dc68561": {
      "model_module": "@jupyter-widgets/controls",
      "model_module_version": "2.0.0",
      "model_name": "HTMLModel",
      "state": {
       "layout": "IPY_MODEL_d927c791e80b4b79a18acae3cc1fa706",
       "style": "IPY_MODEL_3e259cd3b1c24dfa995ceee04209929f",
       "value": "<h5>Message</h5>"
      }
     },
     "d1833306b1cd416db09f0b10445f66cf": {
      "model_module": "@jupyter-widgets/base",
      "model_module_version": "2.0.0",
      "model_name": "LayoutModel",
      "state": {
       "width": "145px"
      }
     },
     "d927c791e80b4b79a18acae3cc1fa706": {
      "model_module": "@jupyter-widgets/base",
      "model_module_version": "2.0.0",
      "model_name": "LayoutModel",
      "state": {}
     },
     "dc07748109264dc484ec8bfe20a2fe5a": {
      "model_module": "@jupyter-widgets/controls",
      "model_module_version": "2.0.0",
      "model_name": "ButtonModel",
      "state": {
       "button_style": "primary",
       "description": "Clear",
       "layout": "IPY_MODEL_52da612b5fb146ad9f2d1f829cd311d7",
       "style": "IPY_MODEL_a481f6dea4ca42068769a09d5663dbb4",
       "tooltip": null
      }
     },
     "ebc9e6e2e62e4211bfec33eca1b7c51f": {
      "model_module": "@jupyter-widgets/base",
      "model_module_version": "2.0.0",
      "model_name": "LayoutModel",
      "state": {
       "width": "70px"
      }
     },
     "f5df71159dff42d4aa316f622a2e5740": {
      "model_module": "@jupyter-widgets/controls",
      "model_module_version": "2.0.0",
      "model_name": "HTMLModel",
      "state": {
       "layout": "IPY_MODEL_d1833306b1cd416db09f0b10445f66cf",
       "style": "IPY_MODEL_898893e64b7f44aebe19092cc6728efc",
       "value": "<h5>Backend</h5>"
      }
     }
    },
    "version_major": 2,
    "version_minor": 0
   }
  }
 },
 "nbformat": 4,
 "nbformat_minor": 5
}
