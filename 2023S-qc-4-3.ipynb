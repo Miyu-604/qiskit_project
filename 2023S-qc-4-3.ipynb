{
 "cells": [
  {
   "cell_type": "code",
   "execution_count": 1,
   "id": "47305bf3-55af-4ade-b34e-4afc88cdf66d",
   "metadata": {},
   "outputs": [
    {
     "name": "stderr",
     "output_type": "stream",
     "text": [
      "/tmp/ipykernel_60/2779030276.py:10: DeprecationWarning: The qiskit.IBMQ entrypoint and the qiskit-ibmq-provider package (accessible from 'qiskit.providers.ibmq`) are deprecated and will be removed in a future release. Instead you should use the qiskit-ibm-provider package which is accessible from 'qiskit_ibm_provider'. You can install it with 'pip install qiskit_ibm_provider'. Just replace 'qiskit.IBMQ' with 'qiskit_ibm_provider.IBMProvider'\n",
      "  provider = IBMQ.load_account()\n"
     ]
    },
    {
     "name": "stdout",
     "output_type": "stream",
     "text": [
      "Traceback \u001b[1;36m(most recent call last)\u001b[0m:\n",
      "\u001b[0m  Cell \u001b[0;32mIn[1], line 10\u001b[0m\n",
      "    provider = IBMQ.load_account()\u001b[0m\n",
      "\u001b[0m  File \u001b[0;32m/opt/conda/lib/python3.10/site-packages/qiskit/providers/ibmq/ibmqfactory.py:191\u001b[0m in \u001b[0;35mload_account\u001b[0m\n",
      "    self._initialize_providers(credentials, preferences)\u001b[0m\n",
      "\u001b[0m  File \u001b[0;32m/opt/conda/lib/python3.10/site-packages/qiskit/providers/ibmq/ibmqfactory.py:456\u001b[0m in \u001b[0;35m_initialize_providers\u001b[0m\n",
      "    auth_client = AuthClient(credentials.token,\u001b[0m\n",
      "\u001b[0m  File \u001b[0;32m/opt/conda/lib/python3.10/site-packages/qiskit/providers/ibmq/api/clients/auth.py:41\u001b[0m in \u001b[0;35m__init__\u001b[0m\n",
      "    self.base_api = self._init_service_clients(**request_kwargs)\u001b[0m\n",
      "\u001b[0m  File \u001b[0;32m/opt/conda/lib/python3.10/site-packages/qiskit/providers/ibmq/api/clients/auth.py:53\u001b[0m in \u001b[0;35m_init_service_clients\u001b[0m\n",
      "    access_token = self._request_access_token()\u001b[0m\n",
      "\u001b[0m  File \u001b[0;32m/opt/conda/lib/python3.10/site-packages/qiskit/providers/ibmq/api/clients/auth.py:75\u001b[0m in \u001b[0;35m_request_access_token\u001b[0m\n",
      "    response = self.auth_api.login(self.api_token)\u001b[0m\n",
      "\u001b[0m  File \u001b[0;32m/opt/conda/lib/python3.10/site-packages/qiskit/providers/ibmq/api/rest/root.py:125\u001b[0m in \u001b[0;35mlogin\u001b[0m\n",
      "    return self.session.post(url, json={'apiToken': api_token}).json()\u001b[0m\n",
      "\u001b[0m  File \u001b[0;32m/opt/conda/lib/python3.10/site-packages/requests/sessions.py:635\u001b[0m in \u001b[0;35mpost\u001b[0m\n",
      "    return self.request(\"POST\", url, data=data, json=json, **kwargs)\u001b[0m\n",
      "\u001b[1;36m  File \u001b[1;32m/opt/conda/lib/python3.10/site-packages/qiskit/providers/ibmq/api/session.py:300\u001b[1;36m in \u001b[1;35mrequest\u001b[1;36m\n",
      "\u001b[1;33m    raise RequestsApiError(message, status_code) from ex\u001b[1;36m\n",
      "\u001b[1;31mRequestsApiError\u001b[0m\u001b[1;31m:\u001b[0m '401 Client Error: Unauthorized for url: https://auth.quantum-computing.ibm.com/api/users/loginWithToken. Login with some authorized provider required., Error code: 3445.'\n",
      "\n",
      "Use %tb to get the full traceback.\n"
     ]
    },
    {
     "data": {
      "text/html": [
       "\n",
       "<style>\n",
       ".button {\n",
       "  border: none;\n",
       "  color: white;\n",
       "  padding: 4px 8px;\n",
       "  text-align: center;\n",
       "  text-decoration: none;\n",
       "  display: inline-block;\n",
       "  font-size: 12px;\n",
       "  margin: 4px 2px;\n",
       "  transition-duration: 0.2s;\n",
       "  cursor: pointer;\n",
       "}\n",
       ".iqx-button {\n",
       "  background-color: #0f62fe; \n",
       "  color: white; \n",
       "}\n",
       ".iqx-button:hover {\n",
       "  background-color: #0043ce;\n",
       "  color: white;\n",
       "}\n",
       "</style>\n",
       "<a href=\"https://stackoverflow.com/search?q=RequestsApiError: 401 Client Error: Unauthorized for url: https://auth.quantum-computing.ibm.com/api/users/loginWithToken. Login with some authorized provider required., Error code: 3445.\" target='_blank'><button class='button iqx-button'>Search for solution online</button></a>\n"
      ],
      "text/plain": [
       "<IPython.core.display.HTML object>"
      ]
     },
     "metadata": {},
     "output_type": "display_data"
    }
   ],
   "source": [
    "import numpy as np\n",
    "\n",
    "# Importing standard Qiskit libraries\n",
    "from qiskit import QuantumCircuit, transpile, Aer, IBMQ, execute\n",
    "from qiskit.tools.jupyter import *\n",
    "from qiskit.visualization import *\n",
    "from ibm_quantum_widgets import *\n",
    "from qiskit.providers.aer import QasmSimulator\n",
    "from qiskit.providers.ibmq.job import job_monitor\n",
    "provider = IBMQ.load_account()"
   ]
  },
  {
   "cell_type": "code",
   "execution_count": null,
   "id": "8d963acb-eb10-414d-b8b8-263e34e6a673",
   "metadata": {},
   "outputs": [],
   "source": [
    "qnum = 1 # number of qubits  量子ビット数\n",
    "cnum = 1 # number of classical bits for the measurement　測定用古典ビット数\n",
    "\n",
    "#name the quantum circuit for state preparation.　量子回路に名前をつける\n",
    "circ_init = QuantumCircuit(qnum,cnum)\n",
    "\n",
    "#name the quantum circuit.　量子回路に名前をつける\n",
    "circ = QuantumCircuit(qnum, cnum)\n",
    "\n",
    "#name the readout circuit.　読み込み回路に名前をつける\n",
    "meas = QuantumCircuit(qnum, cnum)\n",
    "\n",
    "#同じものに名前をつけるのは同じ回路を繰り返し使うため\n",
    "\n",
    "#add elements to the quantum circuit (circ)　circにゲートを加える\n",
    "#add Hadamar gate to the 1st qubit 0番目にアダマールゲートを追加\n",
    "circ.h(0)\n",
    "\n",
    "#add pi/2 rotation of x axis to the 1st qubit\n",
    "circ.rz(np.pi/4,0)\n",
    "\n",
    "#add Hadamar gate to the 1st qubit 0番目にアダマールゲートを追加\n",
    "circ.h(0)\n",
    "\n",
    "#add pi/2 rotation of x axis to the 1st qubit\n",
    "circ.rz(np.pi/4,0)\n",
    "\n",
    "#readout circuit. \"barrier\". The \"barrier\" enforces sequential execution.\n",
    "meas.barrier()\n",
    "#readout qubits \n",
    "#meas.measure([i,j,...],[k,l,...]) -> measure i-th, j-th,... qubit and write the results into k-th, l-th, ... cbit, respectively.\n",
    "#量子iを古典iに\n",
    "meas.measure([0],[0])\n",
    "\n",
    "#connect the initial circuit and gate circuit.\n",
    "qc_circ = circ_init.compose(circ)\n",
    "#connect to the measurement circuit.\n",
    "qc= qc_circ.compose(meas)\n",
    "\n",
    "#pict the whole circuit　回路を表示\n",
    "qc.draw(output='mpl')"
   ]
  }
 ],
 "metadata": {
  "kernelspec": {
   "display_name": "Python 3 (ipykernel)",
   "language": "python",
   "name": "python3"
  },
  "language_info": {
   "codemirror_mode": {
    "name": "ipython",
    "version": 3
   },
   "file_extension": ".py",
   "mimetype": "text/x-python",
   "name": "python",
   "nbconvert_exporter": "python",
   "pygments_lexer": "ipython3",
   "version": "3.10.8"
  },
  "widgets": {
   "application/vnd.jupyter.widget-state+json": {
    "state": {
     "15b6c635a45d4e7c8c12542d5e7e9526": {
      "model_module": "@jupyter-widgets/base",
      "model_module_version": "2.0.0",
      "model_name": "LayoutModel",
      "state": {
       "width": "190px"
      }
     },
     "33396899c2134134b481af1c4496b839": {
      "model_module": "@jupyter-widgets/controls",
      "model_module_version": "2.0.0",
      "model_name": "HTMLModel",
      "state": {
       "layout": "IPY_MODEL_445f24eabfbf482cab3c0514f8242de9",
       "style": "IPY_MODEL_514cf414581a453490e76488afc2a1af",
       "value": "<h5>Backend</h5>"
      }
     },
     "3ec9cdad20b44d66b17ca8e985d90828": {
      "model_module": "@jupyter-widgets/base",
      "model_module_version": "2.0.0",
      "model_name": "LayoutModel",
      "state": {
       "margin": "0px 0px 0px 37px",
       "width": "600px"
      }
     },
     "3fa491e365ec4c0985c46871f4c79881": {
      "model_module": "@jupyter-widgets/controls",
      "model_module_version": "2.0.0",
      "model_name": "HTMLModel",
      "state": {
       "layout": "IPY_MODEL_5a0805255aac4dfe9fb16f31eafbdaab",
       "style": "IPY_MODEL_c5d4b2359cf74189ba5ddba835098c4e",
       "value": "<h5>Message</h5>"
      }
     },
     "445f24eabfbf482cab3c0514f8242de9": {
      "model_module": "@jupyter-widgets/base",
      "model_module_version": "2.0.0",
      "model_name": "LayoutModel",
      "state": {
       "width": "145px"
      }
     },
     "48f6f2b645f44c07a2def9f47661f989": {
      "model_module": "@jupyter-widgets/base",
      "model_module_version": "2.0.0",
      "model_name": "LayoutModel",
      "state": {
       "margin": "0px 0px 10px 0px"
      }
     },
     "497df2d7284040d6b15209a74b53bcdb": {
      "model_module": "@jupyter-widgets/base",
      "model_module_version": "2.0.0",
      "model_name": "LayoutModel",
      "state": {
       "grid_area": "right",
       "padding": "0px 0px 0px 0px",
       "width": "70px"
      }
     },
     "49f18fcad90e4555be4631bb3448032c": {
      "model_module": "@jupyter-widgets/controls",
      "model_module_version": "2.0.0",
      "model_name": "HTMLModel",
      "state": {
       "layout": "IPY_MODEL_48f6f2b645f44c07a2def9f47661f989",
       "style": "IPY_MODEL_d7bd828e3ce8426297c5a04eee4f835e",
       "value": "<p style='font-family: IBM Plex Sans, Arial, Helvetica, sans-serif; font-size: 20px; font-weight: medium;'>Circuit Properties</p>"
      }
     },
     "4ddc7a72eda34f258b63298a3cb3ea5a": {
      "model_module": "@jupyter-widgets/controls",
      "model_module_version": "2.0.0",
      "model_name": "ButtonStyleModel",
      "state": {
       "font_family": null,
       "font_size": null,
       "font_style": null,
       "font_variant": null,
       "font_weight": null,
       "text_color": null,
       "text_decoration": null
      }
     },
     "514cf414581a453490e76488afc2a1af": {
      "model_module": "@jupyter-widgets/controls",
      "model_module_version": "2.0.0",
      "model_name": "HTMLStyleModel",
      "state": {
       "description_width": "",
       "font_size": null,
       "text_color": null
      }
     },
     "5a0805255aac4dfe9fb16f31eafbdaab": {
      "model_module": "@jupyter-widgets/base",
      "model_module_version": "2.0.0",
      "model_name": "LayoutModel",
      "state": {}
     },
     "62e44b33fbb8421eb9059ccda08ba5b1": {
      "model_module": "@jupyter-widgets/controls",
      "model_module_version": "2.0.0",
      "model_name": "GridBoxModel",
      "state": {
       "children": [
        "IPY_MODEL_88c0545da1ce4f70a256046a3d15d658"
       ],
       "layout": "IPY_MODEL_6e7d4b9352d14ac2b896eb819bdc1aad"
      }
     },
     "67f7f32d799f4400a54009f07386fff5": {
      "model_module": "@jupyter-widgets/controls",
      "model_module_version": "2.0.0",
      "model_name": "HTMLModel",
      "state": {
       "layout": "IPY_MODEL_15b6c635a45d4e7c8c12542d5e7e9526",
       "style": "IPY_MODEL_e61b3140568d4fe2a950fcedeffcda81",
       "value": "<h5>Job ID</h5>"
      }
     },
     "6e7d4b9352d14ac2b896eb819bdc1aad": {
      "model_module": "@jupyter-widgets/base",
      "model_module_version": "2.0.0",
      "model_name": "LayoutModel",
      "state": {
       "grid_template_areas": "\n                                       \". . . . right \"\n                                        ",
       "grid_template_columns": "20% 20% 20% 20% 20%",
       "width": "100%"
      }
     },
     "7171851604c24ebe88eed811500560f2": {
      "model_module": "@jupyter-widgets/controls",
      "model_module_version": "2.0.0",
      "model_name": "HTMLStyleModel",
      "state": {
       "description_width": "",
       "font_size": null,
       "text_color": null
      }
     },
     "88c0545da1ce4f70a256046a3d15d658": {
      "model_module": "@jupyter-widgets/controls",
      "model_module_version": "2.0.0",
      "model_name": "ButtonModel",
      "state": {
       "button_style": "primary",
       "description": "Clear",
       "layout": "IPY_MODEL_497df2d7284040d6b15209a74b53bcdb",
       "style": "IPY_MODEL_4ddc7a72eda34f258b63298a3cb3ea5a",
       "tooltip": null
      }
     },
     "88e1419b72894e0d8ca1b4cacf10fc8f": {
      "model_module": "@jupyter-widgets/base",
      "model_module_version": "2.0.0",
      "model_name": "LayoutModel",
      "state": {
       "width": "70px"
      }
     },
     "8ba2e7696a2a4895960801978eb22057": {
      "model_module": "@jupyter-widgets/controls",
      "model_module_version": "2.0.0",
      "model_name": "HTMLModel",
      "state": {
       "layout": "IPY_MODEL_88e1419b72894e0d8ca1b4cacf10fc8f",
       "style": "IPY_MODEL_acd827e7a94343f7ac3121721a0309dc",
       "value": "<h5>Queue</h5>"
      }
     },
     "acd827e7a94343f7ac3121721a0309dc": {
      "model_module": "@jupyter-widgets/controls",
      "model_module_version": "2.0.0",
      "model_name": "HTMLStyleModel",
      "state": {
       "description_width": "",
       "font_size": null,
       "text_color": null
      }
     },
     "c5d4b2359cf74189ba5ddba835098c4e": {
      "model_module": "@jupyter-widgets/controls",
      "model_module_version": "2.0.0",
      "model_name": "HTMLStyleModel",
      "state": {
       "description_width": "",
       "font_size": null,
       "text_color": null
      }
     },
     "cb923fbc592b485caf196cb4502c3a1d": {
      "model_module": "@jupyter-widgets/controls",
      "model_module_version": "2.0.0",
      "model_name": "HTMLModel",
      "state": {
       "layout": "IPY_MODEL_f0d272220e9b46c7a12df709359e4569",
       "style": "IPY_MODEL_7171851604c24ebe88eed811500560f2",
       "value": "<h5>Status</h5>"
      }
     },
     "d7bd828e3ce8426297c5a04eee4f835e": {
      "model_module": "@jupyter-widgets/controls",
      "model_module_version": "2.0.0",
      "model_name": "HTMLStyleModel",
      "state": {
       "description_width": "",
       "font_size": null,
       "text_color": null
      }
     },
     "e61b3140568d4fe2a950fcedeffcda81": {
      "model_module": "@jupyter-widgets/controls",
      "model_module_version": "2.0.0",
      "model_name": "HTMLStyleModel",
      "state": {
       "description_width": "",
       "font_size": null,
       "text_color": null
      }
     },
     "f0d272220e9b46c7a12df709359e4569": {
      "model_module": "@jupyter-widgets/base",
      "model_module_version": "2.0.0",
      "model_name": "LayoutModel",
      "state": {
       "width": "95px"
      }
     },
     "fee04b6cb72a4c94988bd193a7f91ae2": {
      "model_module": "@jupyter-widgets/controls",
      "model_module_version": "2.0.0",
      "model_name": "HBoxModel",
      "state": {
       "children": [
        "IPY_MODEL_67f7f32d799f4400a54009f07386fff5",
        "IPY_MODEL_33396899c2134134b481af1c4496b839",
        "IPY_MODEL_cb923fbc592b485caf196cb4502c3a1d",
        "IPY_MODEL_8ba2e7696a2a4895960801978eb22057",
        "IPY_MODEL_3fa491e365ec4c0985c46871f4c79881"
       ],
       "layout": "IPY_MODEL_3ec9cdad20b44d66b17ca8e985d90828"
      }
     }
    },
    "version_major": 2,
    "version_minor": 0
   }
  }
 },
 "nbformat": 4,
 "nbformat_minor": 5
}
